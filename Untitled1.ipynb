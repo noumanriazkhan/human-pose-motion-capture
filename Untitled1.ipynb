{
 "cells": [
  {
   "cell_type": "code",
   "execution_count": 1,
   "metadata": {},
   "outputs": [],
   "source": [
    "import multiprocessing\n",
    "import numpy as np\n",
    "import glob\n",
    "import os\n",
    "from tensorpack.dataflow import BatchData, MultiThreadMapData, PrefetchDataZMQ, dataset, ImageFromFile, TestDataSpeed\n",
    "from tensorpack import dataflow"
   ]
  },
  {
   "cell_type": "code",
   "execution_count": 7,
   "metadata": {},
   "outputs": [],
   "source": [
    "def getdataFlowObject(list_of_images, batch_size, parallel=None):\n",
    "    df = ImageFromFile(files = list_of_images, channel=3, resize=None, shuffle=False)\n",
    "    if parallel is None:\n",
    "        parallel = min(40, multiprocessing.cpu_count() // 2)  # assuming hyperthreading\n",
    "#     df = MultiThreadMapData(df, parallel, buffer_size=200, strict=True)\n",
    "    df = BatchData(df, batch_size, remainder=True)\n",
    "    df = PrefetchDataZMQ(df, nr_proc=8)\n",
    "    return df"
   ]
  },
  {
   "cell_type": "code",
   "execution_count": null,
   "metadata": {
    "scrolled": true
   },
   "outputs": [],
   "source": [
    "images_folder = \"videoframes\"\n",
    "image_files = glob.glob(os.path.join(images_folder,\"*.jpg\"))\n",
    "print(len(image_files))\n",
    "df = getdataFlowObject(image_files, 256)\n",
    "tds = TestDataSpeed(df)\n",
    "tds.start()"
   ]
  },
  {
   "cell_type": "code",
   "execution_count": 8,
   "metadata": {},
   "outputs": [
    {
     "name": "stdout",
     "output_type": "stream",
     "text": [
      "\u001b[32m[0417 14:41:46 @parallel.py:309]\u001b[0m [PrefetchDataZMQ] Will fork a dataflow more than one times. This assumes the datapoints are i.i.d.\n"
     ]
    }
   ],
   "source": [
    "images_folder = \"videoframes\"\n",
    "image_files = glob.glob(os.path.join(images_folder,\"*.jpg\"))\n",
    "df = getdataFlowObject(image_files, 256)"
   ]
  },
  {
   "cell_type": "code",
   "execution_count": 10,
   "metadata": {},
   "outputs": [
    {
     "name": "stdout",
     "output_type": "stream",
     "text": [
      "\u001b[32m[0417 14:41:58 @argtools.py:146]\u001b[0m \u001b[5m\u001b[31mWRN\u001b[0m \"import prctl\" failed! Install python-prctl so that processes can be cleaned with guarantee.\n",
      "(256, 432, 640, 3)\n",
      "(256, 432, 640, 3)\n"
     ]
    }
   ],
   "source": [
    "df.reset_state()\n",
    "for dp in df:\n",
    "    print(np.shape(dp[0]))"
   ]
  },
  {
   "cell_type": "code",
   "execution_count": null,
   "metadata": {},
   "outputs": [],
   "source": []
  }
 ],
 "metadata": {
  "kernelspec": {
   "display_name": "Python [conda env:pose]",
   "language": "python",
   "name": "conda-env-pose-py"
  },
  "language_info": {
   "codemirror_mode": {
    "name": "ipython",
    "version": 3
   },
   "file_extension": ".py",
   "mimetype": "text/x-python",
   "name": "python",
   "nbconvert_exporter": "python",
   "pygments_lexer": "ipython3",
   "version": "3.7.3"
  }
 },
 "nbformat": 4,
 "nbformat_minor": 2
}
