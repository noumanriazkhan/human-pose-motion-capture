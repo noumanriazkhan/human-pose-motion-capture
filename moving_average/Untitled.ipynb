{
 "cells": [
  {
   "cell_type": "code",
   "execution_count": 19,
   "metadata": {
    "scrolled": true
   },
   "outputs": [],
   "source": [
    "import pandas as pd\n",
    "import json\n",
    "import matplotlib.pyplot as plt\n",
    "import os\n",
    "import numpy as np"
   ]
  },
  {
   "cell_type": "code",
   "execution_count": 20,
   "metadata": {},
   "outputs": [],
   "source": [
    "with open(\"result.json\", \"r\") as json_file:\n",
    "    keypoints = json.load(json_file)"
   ]
  },
  {
   "cell_type": "code",
   "execution_count": 21,
   "metadata": {},
   "outputs": [],
   "source": [
    "keypoints_list = []\n",
    "for i in range(len(keypoints)):\n",
    "    keypoints_list.append(keypoints[i][\"keypoints\"])\n",
    "# value at index zero represent frame 0 \n",
    "keypoints_list.reverse()"
   ]
  },
  {
   "cell_type": "code",
   "execution_count": 22,
   "metadata": {},
   "outputs": [
    {
     "data": {
      "image/png": "[encoded data removed]",
      "text/plain": [
       "<Figure size 432x288 with 1 Axes>"
      ]
     },
     "metadata": {
      "needs_background": "light"
     },
     "output_type": "display_data"
    }
   ],
   "source": [
    "one_point = []\n",
    "for i in range(len(keypoints_list)):\n",
    "    one_point.append(keypoints_list[i][0:2])\n",
    "x = []\n",
    "y = []\n",
    "for i in range(len(one_point)):\n",
    "    x.append(one_point[i][0])\n",
    "    y.append(one_point[i][1])\n",
    "plt.plot(y, '*')\n",
    "plt.show()"
   ]
  },
  {
   "cell_type": "code",
   "execution_count": 23,
   "metadata": {},
   "outputs": [],
   "source": [
    "keypoint_names = [\"nose\", \"left_eye\", \"right_eye\", \"left_ear\",\"right_ear\",\"left_shoulder\",\"right_shoulder\",\"left_elbow\",\n",
    "                  \"right_elbow\",\"left_wrist\",\"right_wrist\",\"left_hip\",\"right_hip\",\"left_knee\",\"right_knee\",\"left_ankle\",\n",
    "                  \"right_ankle\"]\n",
    "points = {}\n",
    "for i, j in zip(keypoint_names, range(0,51,3)):\n",
    "    one_point = []\n",
    "    for k in range(len(keypoints_list)):\n",
    "        one_point.append(keypoints_list[k][j:j + 2])\n",
    "    points[i] = one_point"
   ]
  },
  {
   "cell_type": "code",
   "execution_count": 24,
   "metadata": {},
   "outputs": [
    {
     "data": {
      "text/plain": [
       "(412, 51)"
      ]
     },
     "execution_count": 24,
     "metadata": {},
     "output_type": "execute_result"
    }
   ],
   "source": [
    "np_keypoints = np.asarray(keypoints_list)\n",
    "np_keypoints.shape"
   ]
  },
  {
   "cell_type": "code",
   "execution_count": 25,
   "metadata": {
    "scrolled": true
   },
   "outputs": [
    {
     "data": {
      "text/html": [
       "<div>\n",
       "<style scoped>\n",
       "    .dataframe tbody tr th:only-of-type {\n",
       "        vertical-align: middle;\n",
       "    }\n",
       "\n",
       "    .dataframe tbody tr th {\n",
       "        vertical-align: top;\n",
       "    }\n",
       "\n",
       "    .dataframe thead th {\n",
       "        text-align: right;\n",
       "    }\n",
       "</style>\n",
       "<table border=\"1\" class=\"dataframe\">\n",
       "  <thead>\n",
       "    <tr style=\"text-align: right;\">\n",
       "      <th></th>\n",
       "      <th>0</th>\n",
       "      <th>1</th>\n",
       "      <th>2</th>\n",
       "      <th>3</th>\n",
       "      <th>4</th>\n",
       "      <th>5</th>\n",
       "      <th>6</th>\n",
       "      <th>7</th>\n",
       "      <th>8</th>\n",
       "      <th>9</th>\n",
       "      <th>...</th>\n",
       "      <th>41</th>\n",
       "      <th>42</th>\n",
       "      <th>43</th>\n",
       "      <th>44</th>\n",
       "      <th>45</th>\n",
       "      <th>46</th>\n",
       "      <th>47</th>\n",
       "      <th>48</th>\n",
       "      <th>49</th>\n",
       "      <th>50</th>\n",
       "    </tr>\n",
       "  </thead>\n",
       "  <tbody>\n",
       "    <tr>\n",
       "      <th>0</th>\n",
       "      <td>719.178</td>\n",
       "      <td>198.446</td>\n",
       "      <td>1.0</td>\n",
       "      <td>730.307</td>\n",
       "      <td>181.753</td>\n",
       "      <td>1.0</td>\n",
       "      <td>708.050</td>\n",
       "      <td>187.318</td>\n",
       "      <td>1.0</td>\n",
       "      <td>746.999</td>\n",
       "      <td>...</td>\n",
       "      <td>1.0</td>\n",
       "      <td>696.921</td>\n",
       "      <td>537.861</td>\n",
       "      <td>1.0</td>\n",
       "      <td>769.256</td>\n",
       "      <td>682.530</td>\n",
       "      <td>1.0</td>\n",
       "      <td>746.999</td>\n",
       "      <td>615.760</td>\n",
       "      <td>1.0</td>\n",
       "    </tr>\n",
       "    <tr>\n",
       "      <th>1</th>\n",
       "      <td>717.443</td>\n",
       "      <td>191.213</td>\n",
       "      <td>1.0</td>\n",
       "      <td>728.561</td>\n",
       "      <td>180.094</td>\n",
       "      <td>1.0</td>\n",
       "      <td>706.324</td>\n",
       "      <td>180.094</td>\n",
       "      <td>1.0</td>\n",
       "      <td>745.239</td>\n",
       "      <td>...</td>\n",
       "      <td>1.0</td>\n",
       "      <td>684.086</td>\n",
       "      <td>535.894</td>\n",
       "      <td>1.0</td>\n",
       "      <td>767.477</td>\n",
       "      <td>685.997</td>\n",
       "      <td>1.0</td>\n",
       "      <td>728.561</td>\n",
       "      <td>619.285</td>\n",
       "      <td>1.0</td>\n",
       "    </tr>\n",
       "    <tr>\n",
       "      <th>2</th>\n",
       "      <td>711.779</td>\n",
       "      <td>190.182</td>\n",
       "      <td>1.0</td>\n",
       "      <td>723.427</td>\n",
       "      <td>178.534</td>\n",
       "      <td>1.0</td>\n",
       "      <td>700.130</td>\n",
       "      <td>178.534</td>\n",
       "      <td>1.0</td>\n",
       "      <td>740.900</td>\n",
       "      <td>...</td>\n",
       "      <td>1.0</td>\n",
       "      <td>676.833</td>\n",
       "      <td>533.814</td>\n",
       "      <td>1.0</td>\n",
       "      <td>770.021</td>\n",
       "      <td>685.245</td>\n",
       "      <td>1.0</td>\n",
       "      <td>705.954</td>\n",
       "      <td>632.826</td>\n",
       "      <td>1.0</td>\n",
       "    </tr>\n",
       "    <tr>\n",
       "      <th>3</th>\n",
       "      <td>706.034</td>\n",
       "      <td>183.843</td>\n",
       "      <td>1.0</td>\n",
       "      <td>718.104</td>\n",
       "      <td>171.774</td>\n",
       "      <td>1.0</td>\n",
       "      <td>700.000</td>\n",
       "      <td>177.809</td>\n",
       "      <td>1.0</td>\n",
       "      <td>742.243</td>\n",
       "      <td>...</td>\n",
       "      <td>1.0</td>\n",
       "      <td>663.791</td>\n",
       "      <td>527.823</td>\n",
       "      <td>1.0</td>\n",
       "      <td>766.382</td>\n",
       "      <td>678.691</td>\n",
       "      <td>1.0</td>\n",
       "      <td>681.895</td>\n",
       "      <td>636.448</td>\n",
       "      <td>1.0</td>\n",
       "    </tr>\n",
       "    <tr>\n",
       "      <th>4</th>\n",
       "      <td>705.212</td>\n",
       "      <td>183.115</td>\n",
       "      <td>1.0</td>\n",
       "      <td>717.939</td>\n",
       "      <td>170.388</td>\n",
       "      <td>1.0</td>\n",
       "      <td>698.849</td>\n",
       "      <td>170.388</td>\n",
       "      <td>1.0</td>\n",
       "      <td>737.029</td>\n",
       "      <td>...</td>\n",
       "      <td>1.0</td>\n",
       "      <td>654.305</td>\n",
       "      <td>526.738</td>\n",
       "      <td>1.0</td>\n",
       "      <td>768.846</td>\n",
       "      <td>679.459</td>\n",
       "      <td>1.0</td>\n",
       "      <td>654.305</td>\n",
       "      <td>647.642</td>\n",
       "      <td>1.0</td>\n",
       "    </tr>\n",
       "  </tbody>\n",
       "</table>\n",
       "<p>5 rows × 51 columns</p>\n",
       "</div>"
      ],
      "text/plain": [
       "        0        1    2        3        4    5        6        7    8   \\\n",
       "0  719.178  198.446  1.0  730.307  181.753  1.0  708.050  187.318  1.0   \n",
       "1  717.443  191.213  1.0  728.561  180.094  1.0  706.324  180.094  1.0   \n",
       "2  711.779  190.182  1.0  723.427  178.534  1.0  700.130  178.534  1.0   \n",
       "3  706.034  183.843  1.0  718.104  171.774  1.0  700.000  177.809  1.0   \n",
       "4  705.212  183.115  1.0  717.939  170.388  1.0  698.849  170.388  1.0   \n",
       "\n",
       "        9   ...   41       42       43   44       45       46   47       48  \\\n",
       "0  746.999  ...  1.0  696.921  537.861  1.0  769.256  682.530  1.0  746.999   \n",
       "1  745.239  ...  1.0  684.086  535.894  1.0  767.477  685.997  1.0  728.561   \n",
       "2  740.900  ...  1.0  676.833  533.814  1.0  770.021  685.245  1.0  705.954   \n",
       "3  742.243  ...  1.0  663.791  527.823  1.0  766.382  678.691  1.0  681.895   \n",
       "4  737.029  ...  1.0  654.305  526.738  1.0  768.846  679.459  1.0  654.305   \n",
       "\n",
       "        49   50  \n",
       "0  615.760  1.0  \n",
       "1  619.285  1.0  \n",
       "2  632.826  1.0  \n",
       "3  636.448  1.0  \n",
       "4  647.642  1.0  \n",
       "\n",
       "[5 rows x 51 columns]"
      ]
     },
     "execution_count": 25,
     "metadata": {},
     "output_type": "execute_result"
    }
   ],
   "source": [
    "pd_keypoints = pd.DataFrame(data=np_keypoints)\n",
    "pd_keypoints.head()"
   ]
  },
  {
   "cell_type": "code",
   "execution_count": 26,
   "metadata": {
    "scrolled": true
   },
   "outputs": [],
   "source": [
    "window_size = 10\n",
    "pd_keypoints_mean = pd_keypoints.copy()\n",
    "for i in range(51):\n",
    "    pd_keypoints_mean[i] = pd.Series(pd_keypoints[i]).rolling(window_size).mean()"
   ]
  },
  {
   "cell_type": "code",
   "execution_count": 27,
   "metadata": {},
   "outputs": [],
   "source": [
    "for i in range(len(keypoints)):\n",
    "    if i >= 9:\n",
    "        keypoints[len(keypoints) - 1 - i][\"keypoints\"] = pd_keypoints_mean.iloc[i].values.tolist()"
   ]
  },
  {
   "cell_type": "code",
   "execution_count": 28,
   "metadata": {},
   "outputs": [],
   "source": [
    "with open(\"result_filter.json\", \"w\") as json_file:\n",
    "    json.dump(keypoints, fp=json_file)"
   ]
  },
  {
   "cell_type": "code",
   "execution_count": null,
   "metadata": {
    "scrolled": true
   },
   "outputs": [],
   "source": [
    "for i in keypoint_names:    \n",
    "    one_point = points[i]\n",
    "    x = []\n",
    "    y = []\n",
    "    for j in range(len(one_point)):\n",
    "        x.append(one_point[j][0])\n",
    "        y.append(one_point[j][1])\n",
    "    y_mean = pd.Series(y).rolling(10).mean()\n",
    "    x_mean = pd.Series(x).rolling(10).mean()\n",
    "    plt.subplot(121)\n",
    "    plt.plot(x, label=\"X\")\n",
    "    plt.plot(x_mean, label=\"X_mean\")\n",
    "    plt.title(\"X Component\")\n",
    "    plt.legend(loc='upper right', ncol=1)\n",
    "    plt.subplot(122)\n",
    "    plt.plot(y, label=\"Y\")\n",
    "    plt.plot(y_mean, label=\"Y_mean\")\n",
    "    plt.title(\"Y Component\")\n",
    "    plt.legend(loc='upper right', ncol=1)\n",
    "#     plt.savefig(os.path.join(\"graphs\", i + \".jpg\"), quality=95, dpi=300)\n",
    "    break"
   ]
  },
  {
   "cell_type": "code",
   "execution_count": null,
   "metadata": {},
   "outputs": [],
   "source": [
    "print(y_mean)"
   ]
  },
  {
   "cell_type": "code",
   "execution_count": null,
   "metadata": {},
   "outputs": [],
   "source": [
    "with open(\"filter_result.json\", \"r\") as json_file:\n",
    "    keypoints = json.load(json_file)\n",
    "keypoints_list = []\n",
    "for i in range(len(keypoints)):\n",
    "    keypoints_list.append(keypoints[i][\"keypoints\"])\n",
    "one_point = []\n",
    "for i in range(len(keypoints_list)):\n",
    "    one_point.append(keypoints_list[i][0:2])\n",
    "x = []\n",
    "y = []\n",
    "for i in range(len(one_point)):\n",
    "    x.append(one_point[i][0])\n",
    "    y.append(one_point[i][1])\n",
    "plt.plot(y)\n",
    "plt.show()"
   ]
  },
  {
   "cell_type": "code",
   "execution_count": null,
   "metadata": {},
   "outputs": [],
   "source": [
    "import numpy as np\n",
    "def running_mean(x, N):\n",
    "    cumsum = np.cumsum(np.insert(x, 0, 0)) \n",
    "    return (cumsum[N:] - cumsum[:-N]) / float(N)\n",
    "y_mean = running_mean(np.asarray(y), 20)\n",
    "plt.plot(y_mean, '*')\n",
    "plt.show()"
   ]
  },
  {
   "cell_type": "code",
   "execution_count": null,
   "metadata": {},
   "outputs": [],
   "source": [
    "print(len(y_mean))"
   ]
  },
  {
   "cell_type": "code",
   "execution_count": null,
   "metadata": {},
   "outputs": [],
   "source": [
    "y_pd_mean = pd.Series(y).rolling(20).mean()\n",
    "plt.plot(y_pd_mean, '*')\n",
    "plt.show()\n",
    "print(len(y_pd_mean))"
   ]
  },
  {
   "cell_type": "code",
   "execution_count": null,
   "metadata": {},
   "outputs": [],
   "source": []
  }
 ],
 "metadata": {
  "kernelspec": {
   "display_name": "Python [conda env:pose]",
   "language": "python",
   "name": "conda-env-pose-py"
  },
  "language_info": {
   "codemirror_mode": {
    "name": "ipython",
    "version": 3
   },
   "file_extension": ".py",
   "mimetype": "text/x-python",
   "name": "python",
   "nbconvert_exporter": "python",
   "pygments_lexer": "ipython3",
   "version": "3.7.3"
  }
 },
 "nbformat": 4,
 "nbformat_minor": 2
}
