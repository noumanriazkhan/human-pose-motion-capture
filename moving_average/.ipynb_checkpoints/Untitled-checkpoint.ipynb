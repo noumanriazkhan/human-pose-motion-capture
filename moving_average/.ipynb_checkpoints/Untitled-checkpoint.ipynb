{
 "cells": [
  {
   "cell_type": "code",
   "execution_count": 1,
   "metadata": {
    "scrolled": true
   },
   "outputs": [],
   "source": [
    "import pandas as pd\n",
    "import json\n",
    "import matplotlib.pyplot as plt\n",
    "import os"
   ]
  },
  {
   "cell_type": "code",
   "execution_count": 2,
   "metadata": {},
   "outputs": [],
   "source": [
    "with open(\"result.json\", \"r\") as json_file:\n",
    "    keypoints = json.load(json_file)"
   ]
  },
  {
   "cell_type": "code",
   "execution_count": null,
   "metadata": {},
   "outputs": [],
   "source": [
    "keypoints_list = []\n",
    "for i in range(len(keypoints)):\n",
    "    keypoints_list.append(keypoints[i][\"keypoints\"])"
   ]
  },
  {
   "cell_type": "code",
   "execution_count": null,
   "metadata": {},
   "outputs": [],
   "source": [
    "one_point = []\n",
    "for i in range(len(keypoints_list)):\n",
    "    one_point.append(keypoints_list[i][0:2])\n",
    "x = []\n",
    "y = []\n",
    "for i in range(len(one_point)):\n",
    "    x.append(one_point[i][0])\n",
    "    y.append(one_point[i][1])\n",
    "plt.plot(y, '*')\n",
    "plt.show()"
   ]
  },
  {
   "cell_type": "code",
   "execution_count": null,
   "metadata": {},
   "outputs": [],
   "source": [
    "keypoint_names = [\"nose\", \"left_eye\", \"right_eye\", \"left_ear\",\"right_ear\",\"left_shoulder\",\"right_shoulder\",\"left_elbow\",\n",
    "                  \"right_elbow\",\"left_wrist\",\"right_wrist\",\"left_hip\",\"right_hip\",\"left_knee\",\"right_knee\",\"left_ankle\",\n",
    "                  \"right_ankle\"]\n",
    "points = {}\n",
    "for i, j in zip(keypoint_names, range(0,51,3)):\n",
    "    one_point = []\n",
    "    for k in range(len(keypoints_list)):\n",
    "        one_point.append(keypoints_list[k][j:j + 2])\n",
    "    points[i] = one_point"
   ]
  },
  {
   "cell_type": "code",
   "execution_count": null,
   "metadata": {
    "scrolled": true
   },
   "outputs": [],
   "source": [
    "for i in keypoint_names:    \n",
    "    one_point = points[i]\n",
    "    x = []\n",
    "    y = []\n",
    "    for j in range(len(one_point)):\n",
    "        x.append(one_point[j][0])\n",
    "        y.append(one_point[j][1])\n",
    "    y_mean = pd.Series(y).rolling(10).mean()\n",
    "    x_mean = pd.Series(x).rolling(10).mean()\n",
    "    plt.subplot(121)\n",
    "    plt.plot(x, label=\"X\")\n",
    "    plt.plot(x_mean, label=\"X_mean\")\n",
    "    plt.title(\"X Component\")\n",
    "    plt.legend(loc='upper right', ncol=1)\n",
    "    plt.subplot(122)\n",
    "    plt.plot(y, label=\"Y\")\n",
    "    plt.plot(y_mean, label=\"Y_mean\")\n",
    "    plt.title(\"Y Component\")\n",
    "    plt.legend(loc='upper right', ncol=1)\n",
    "    plt.savefig(os.path.join(\"graphs\", i + \".jpg\"), quality=95, dpi=300)\n",
    "    break"
   ]
  },
  {
   "cell_type": "code",
   "execution_count": null,
   "metadata": {},
   "outputs": [],
   "source": []
  },
  {
   "cell_type": "code",
   "execution_count": null,
   "metadata": {},
   "outputs": [],
   "source": [
    "with open(\"filter_result.json\", \"r\") as json_file:\n",
    "    keypoints = json.load(json_file)\n",
    "keypoints_list = []\n",
    "for i in range(len(keypoints)):\n",
    "    keypoints_list.append(keypoints[i][\"keypoints\"])\n",
    "one_point = []\n",
    "for i in range(len(keypoints_list)):\n",
    "    one_point.append(keypoints_list[i][0:2])\n",
    "x = []\n",
    "y = []\n",
    "for i in range(len(one_point)):\n",
    "    x.append(one_point[i][0])\n",
    "    y.append(one_point[i][1])\n",
    "plt.plot(y)\n",
    "plt.show()"
   ]
  },
  {
   "cell_type": "code",
   "execution_count": null,
   "metadata": {},
   "outputs": [],
   "source": [
    "import numpy as np\n",
    "def running_mean(x, N):\n",
    "    cumsum = np.cumsum(np.insert(x, 0, 0)) \n",
    "    return (cumsum[N:] - cumsum[:-N]) / float(N)\n",
    "y_mean = running_mean(np.asarray(y), 20)\n",
    "plt.plot(y_mean, '*')\n",
    "plt.show()"
   ]
  },
  {
   "cell_type": "code",
   "execution_count": null,
   "metadata": {},
   "outputs": [],
   "source": [
    "print(len(y_mean))"
   ]
  },
  {
   "cell_type": "code",
   "execution_count": null,
   "metadata": {},
   "outputs": [],
   "source": [
    "y_pd_mean = pd.Series(y).rolling(20).mean()\n",
    "plt.plot(y_pd_mean, '*')\n",
    "plt.show()\n",
    "print(len(y_pd_mean))"
   ]
  },
  {
   "cell_type": "code",
   "execution_count": null,
   "metadata": {},
   "outputs": [],
   "source": []
  }
 ],
 "metadata": {
  "kernelspec": {
   "display_name": "Python [conda env:pose]",
   "language": "python",
   "name": "conda-env-pose-py"
  },
  "language_info": {
   "codemirror_mode": {
    "name": "ipython",
    "version": 3
   },
   "file_extension": ".py",
   "mimetype": "text/x-python",
   "name": "python",
   "nbconvert_exporter": "python",
   "pygments_lexer": "ipython3",
   "version": "3.7.3"
  }
 },
 "nbformat": 4,
 "nbformat_minor": 2
}
