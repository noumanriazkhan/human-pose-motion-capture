{
 "cells": [
  {
   "cell_type": "code",
   "execution_count": 1,
   "metadata": {},
   "outputs": [],
   "source": [
    "import numpy as np\n",
    "import os\n",
    "import six.moves.urllib as urllib\n",
    "import sys\n",
    "import tarfile\n",
    "import tensorflow as tf\n",
    "import zipfile\n",
    "import json\n",
    "import cv2\n",
    "\n",
    "from distutils.version import StrictVersion\n",
    "from collections import defaultdict\n",
    "from io import StringIO\n",
    "from matplotlib import pyplot as plt\n",
    "from PIL import Image\n",
    "\n",
    "# This is needed since the notebook is stored in the object_detection folder.\n",
    "sys.path.append(\"..\")\n",
    "from object_detection.utils import ops as utils_ops\n",
    "\n",
    "if StrictVersion(tf.__version__) < StrictVersion('1.12.0'):\n",
    "  raise ImportError('Please upgrade your TensorFlow installation to v1.12.*.')\n",
    "\n",
    "from utils import label_map_util\n",
    "from utils import visualization_utils as vis_util\n",
    "\n",
    "# What model to download.\n",
    "MODEL_NAME = 'ssd_mobilenet_v1_coco_2017_11_17'\n",
    "MODEL_FILE = MODEL_NAME + '.tar.gz'\n",
    "DOWNLOAD_BASE = 'http://download.tensorflow.org/models/object_detection/'\n",
    "\n",
    "# Path to frozen detection graph. This is the actual model that is used for the object detection.\n",
    "PATH_TO_FROZEN_GRAPH = MODEL_NAME + '/frozen_inference_graph.pb'\n",
    "\n",
    "# List of the strings that is used to add correct label for each box.\n",
    "PATH_TO_LABELS = os.path.join('data', 'mscoco_label_map.pbtxt')\n",
    "\n",
    "detection_graph = tf.Graph()\n",
    "with detection_graph.as_default():\n",
    "  od_graph_def = tf.GraphDef()\n",
    "  with tf.gfile.GFile(PATH_TO_FROZEN_GRAPH, 'rb') as fid:\n",
    "    serialized_graph = fid.read()\n",
    "    od_graph_def.ParseFromString(serialized_graph)\n",
    "    tf.import_graph_def(od_graph_def, name='')\n",
    "\n",
    "category_index = label_map_util.create_category_index_from_labelmap(PATH_TO_LABELS, use_display_name=True)\n",
    "\n",
    "def load_image_into_numpy_array(image):\n",
    "  (im_width, im_height) = image.size\n",
    "  return np.array(image.getdata()).reshape(\n",
    "      (im_height, im_width, 3)).astype(np.uint8)\n",
    "\n",
    "PATH_TO_TEST_IMAGES_DIR = '/home/ubuntu/inzamam/videoframes'\n",
    "num_frames = len(os.listdir(PATH_TO_TEST_IMAGES_DIR)) - 1\n",
    "TEST_IMAGE_PATHS = [ os.path.join(PATH_TO_TEST_IMAGES_DIR, 'frame{:06d}.jpg'.format(i)) for i in range(0, len(os.listdir(PATH_TO_TEST_IMAGES_DIR)) - 1) ]\n",
    "\n",
    "ops = detection_graph.get_operations()\n",
    "all_tensor_names = {output.name for op in ops for output in op.outputs}\n",
    "tensor_dict = {}\n",
    "for key in [\n",
    "    'num_detections', 'detection_boxes', 'detection_scores',\n",
    "    'detection_classes', 'detection_masks'\n",
    "]:\n",
    "  tensor_name = key + ':0'\n",
    "  if tensor_name in all_tensor_names:\n",
    "    tensor_dict[key] = detection_graph.get_tensor_by_name(\n",
    "        tensor_name)\n",
    "if 'detection_masks' in tensor_dict:\n",
    "  # The following processing is only for single image\n",
    "  detection_boxes = tf.squeeze(tensor_dict['detection_boxes'], [0])\n",
    "  detection_masks = tf.squeeze(tensor_dict['detection_masks'], [0])\n",
    "  # Reframe is required to translate mask from box coordinates to image coordinates and fit the image size.\n",
    "  real_num_detection = tf.cast(tensor_dict['num_detections'][0], tf.int32)\n",
    "  detection_boxes = tf.slice(detection_boxes, [0, 0], [real_num_detection, -1])\n",
    "  detection_masks = tf.slice(detection_masks, [0, 0, 0], [real_num_detection, -1, -1])\n",
    "  detection_masks_reframed = utils_ops.reframe_box_masks_to_image_masks(\n",
    "      detection_masks, detection_boxes, image.shape[1], image.shape[2])\n",
    "  detection_masks_reframed = tf.cast(\n",
    "      tf.greater(detection_masks_reframed, 0.5), tf.uint8)\n",
    "  # Follow the convention by adding back the batch dimension\n",
    "  tensor_dict['detection_masks'] = tf.expand_dims(\n",
    "    detection_masks_reframed, 0)\n",
    "image_tensor = detection_graph.get_tensor_by_name('image_tensor:0')\n",
    "sess = tf.Session(graph = detection_graph)\n",
    "\n",
    "# inference related code starts from here\n",
    "def parse_function(filename):\n",
    "    image_string = tf.read_file(filename)\n",
    "\n",
    "    # Don't use tf.image.decode_image, or the output shape will be undefined\n",
    "    image = tf.image.decode_jpeg(image_string, channels=3)\n",
    "\n",
    "    # This will convert to float values in [0, 1]\n",
    "    image = tf.image.convert_image_dtype(image, tf.uint8)\n",
    "    return filename, image\n",
    "\n",
    "def getFrames(video_name, folder_name=\"\", verbose = False):\n",
    "    frames = np.zeros([424,720,1080,3], dtype=np.uint8)\n",
    "    vidcap = cv2.VideoCapture(video_name)\n",
    "    success,image = vidcap.read()\n",
    "    if success == False:\n",
    "        print('No video file found or no supported format!')\n",
    "    count = 0\n",
    "    \n",
    "    while success:\n",
    "#         cv2.imwrite(os.path.join(folder_name, \"frame%06d.jpg\" % count), image)     # save frame as JPEG file\n",
    "        frames[count,:,:,:] = image\n",
    "        success,image = vidcap.read()\n",
    "        if verbose == True:\n",
    "            print('Read a new frame: ', success)\n",
    "        count += 1\n",
    "    return frames\n",
    "\n",
    "\n",
    "batch_size = 128\n",
    "\n",
    "dataset = tf.data.Dataset.from_tensor_slices((TEST_IMAGE_PATHS))\n",
    "dataset = dataset.map(parse_function, num_parallel_calls=8)\n",
    "\n",
    "dataset = dataset.batch(batch_size)\n",
    "dataset = dataset.prefetch(1)\n",
    "\n",
    "iterator = dataset.make_one_shot_iterator()\n",
    "file_name, next_element = iterator.get_next()\n",
    "graph_2 = tf.Graph()\n",
    "sess2 = tf.Session()"
   ]
  },
  {
   "cell_type": "code",
   "execution_count": 2,
   "metadata": {},
   "outputs": [
    {
     "name": "stdout",
     "output_type": "stream",
     "text": [
      "(128, 432, 640, 3)\n",
      "(128, 432, 640, 3)\n",
      "(128, 432, 640, 3)\n",
      "(38, 432, 640, 3)\n",
      "End of training dataset.\n"
     ]
    }
   ],
   "source": [
    "\n",
    "i = 0\n",
    "output_dict = {}\n",
    "while True:\n",
    "    try:\n",
    "        elem = sess2.run(next_element)\n",
    "        print(np.shape(elem))\n",
    "        output_dict[i] = sess.run(tensor_dict, feed_dict = {image_tensor: elem})\n",
    "        i = i + 1\n",
    "    except tf.errors.OutOfRangeError:\n",
    "        print(\"End of training dataset.\")\n",
    "        break"
   ]
  },
  {
   "cell_type": "code",
   "execution_count": 3,
   "metadata": {},
   "outputs": [],
   "source": [
    "def getcocodict(output_dict, image_path, im_height, im_width, batch_size):\n",
    "    batch_image_list = []\n",
    "    for i in range(batch_size):\n",
    "        x = output_dict['detection_classes'][i]\n",
    "        detection_boxes_output = output_dict['detection_boxes'][i]\n",
    "        detection_scores_output =output_dict['detection_scores'][i]\n",
    "        person_indices = np.where(x == 1)\n",
    "        p_detection_boxes = detection_boxes_output[person_indices]\n",
    "        p_detection_scores = detection_scores_output[person_indices]\n",
    "        ymin = p_detection_boxes[np.where(max(p_detection_scores))][0][0]\n",
    "        xmin = p_detection_boxes[np.where(max(p_detection_scores))][0][1]\n",
    "        ymax = p_detection_boxes[np.where(max(p_detection_scores))][0][2]\n",
    "        xmax = p_detection_boxes[np.where(max(p_detection_scores))][0][3]\n",
    "\n",
    "        (left, right, top, bottom) = (xmin * im_width, xmax * im_width,\n",
    "                                          ymin * im_height, ymax * im_height)\n",
    "\n",
    "        bbox = [left, top, right - left, bottom - top]\n",
    "        image_dict = {}\n",
    "        image_dict[\"image_id\"] = image_path[i].split('/')[-1]\n",
    "        image_dict[\"category_id\"] = 1\n",
    "        image_dict[\"bbox\"] = bbox\n",
    "        image_dict[\"score\"] = float(max(p_detection_scores))\n",
    "        batch_image_list.append(image_dict)\n",
    "    return batch_image_list"
   ]
  },
  {
   "cell_type": "code",
   "execution_count": 4,
   "metadata": {},
   "outputs": [],
   "source": [
    "def getcocovaldict(image_path, im_height, im_width, batch_size):\n",
    "    val_list = []\n",
    "    batch_dict = {}\n",
    "    for i in range(batch_size):\n",
    "        image_dict = {'license': 3, 'file_name': '00000032.jpg', 'coco_url': \n",
    "                      'http://images.cocodataset.org/val2017/000000394940.jpg', 'height': 360, 'width': 640, \n",
    "                      'date_captured': '203213-11-24 13:47:05', \n",
    "                      'flickr_url': 'http://farm9.staticflickr.com/8227/8566023505_e9e9f997bc_z.jpg', 'id': 32}\n",
    "        image_dict['file_name'] = image_path[i].split('/')[-1]\n",
    "        image_dict['height'] = im_height\n",
    "        image_dict['width'] = im_width\n",
    "        image_dict['id'] = image_path[i].split('/')[-1]\n",
    "        batch_dict[image_path[i].split('/')[-1]] = image_dict\n",
    "    return batch_dict"
   ]
  },
  {
   "cell_type": "code",
   "execution_count": 5,
   "metadata": {},
   "outputs": [],
   "source": [
    "image = Image.open(TEST_IMAGE_PATHS[0])\n",
    "(im_width, im_height) = image.size"
   ]
  },
  {
   "cell_type": "code",
   "execution_count": 6,
   "metadata": {
    "scrolled": true
   },
   "outputs": [
    {
     "name": "stdout",
     "output_type": "stream",
     "text": [
      "0 128 128\n",
      "128 256 128\n",
      "256 384 128\n",
      "384 422 38\n"
     ]
    }
   ],
   "source": [
    "detection_list = []\n",
    "valimage_dict = {}\n",
    "for i in range(len(output_dict)):\n",
    "    start = i * batch_size\n",
    "    end = i * batch_size +  batch_size\n",
    "    if end >= len(TEST_IMAGE_PATHS):\n",
    "        end = len(TEST_IMAGE_PATHS)\n",
    "        batch_size = end - start\n",
    "    print(start, end, batch_size)\n",
    "    detection_list.extend(getcocodict(output_dict = output_dict[i],image_path = TEST_IMAGE_PATHS[start:end], \n",
    "                                      im_height= im_height,im_width= im_width, batch_size= batch_size))\n",
    "    valimage_dict.update(getcocovaldict(image_path = TEST_IMAGE_PATHS[start:end], im_height=im_height, \n",
    "                                        im_width=im_width, batch_size=batch_size))"
   ]
  },
  {
   "cell_type": "code",
   "execution_count": 7,
   "metadata": {},
   "outputs": [
    {
     "data": {
      "text/plain": [
       "422"
      ]
     },
     "execution_count": 7,
     "metadata": {},
     "output_type": "execute_result"
    }
   ],
   "source": [
    "len(detection_list)"
   ]
  }
 ],
 "metadata": {
  "kernelspec": {
   "display_name": "Python [conda env:pose]",
   "language": "python",
   "name": "conda-env-pose-py"
  },
  "language_info": {
   "codemirror_mode": {
    "name": "ipython",
    "version": 3
   },
   "file_extension": ".py",
   "mimetype": "text/x-python",
   "name": "python",
   "nbconvert_exporter": "python",
   "pygments_lexer": "ipython3",
   "version": "3.7.3"
  }
 },
 "nbformat": 4,
 "nbformat_minor": 2
}
